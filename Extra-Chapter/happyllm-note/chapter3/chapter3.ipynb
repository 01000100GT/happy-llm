{
 "cells": [
  {
   "cell_type": "markdown",
   "metadata": {},
   "source": [
    "# 第三章\n",
    "\n",
    "本章节将通过使用BERT-mini在waimai_10k的数据集当中进行微调，并且在最后给出微调的具体结果可供大家自行测试！"
   ]
  },
  {
   "cell_type": "markdown",
   "metadata": {},
   "source": [
    "# 数据预处理\n",
    "\n",
    "从文档中我们了解到，BERT 模型在输入时会在文本序列首部加入特殊 token <CLS>，并且需要将文本转换为模型可接受的输入格式。我们将使用waimai_10k.csv数据集，该数据集通常包含外卖评论和对应的情感标签（如积极或消极）。"
   ]
  },
  {
   "cell_type": "code",
   "execution_count": 1,
   "metadata": {
    "_cell_guid": "b1076dfc-b9ad-4769-8c92-a6c4dae69d19",
    "_uuid": "8f2839f25d086af736a60e9eeb907d3b93b6e0e5",
    "execution": {
     "iopub.execute_input": "2025-07-13T04:50:38.988911Z",
     "iopub.status.busy": "2025-07-13T04:50:38.988647Z",
     "iopub.status.idle": "2025-07-13T04:50:57.602024Z",
     "shell.execute_reply": "2025-07-13T04:50:57.601185Z",
     "shell.execute_reply.started": "2025-07-13T04:50:38.988889Z"
    },
    "trusted": true
   },
   "outputs": [
    {
     "data": {
      "application/vnd.jupyter.widget-view+json": {
       "model_id": "f8f289bf560a474396f054f466736d7d",
       "version_major": 2,
       "version_minor": 0
      },
      "text/plain": [
       "vocab.txt: 0.00B [00:00, ?B/s]"
      ]
     },
     "metadata": {},
     "output_type": "display_data"
    },
    {
     "data": {
      "application/vnd.jupyter.widget-view+json": {
       "model_id": "58f3f28c7f264cdbb36c1a602e580234",
       "version_major": 2,
       "version_minor": 0
      },
      "text/plain": [
       "config.json:   0%|          | 0.00/286 [00:00<?, ?B/s]"
      ]
     },
     "metadata": {},
     "output_type": "display_data"
    }
   ],
   "source": [
    "import pandas as pd\n",
    "from transformers import BertTokenizer\n",
    "\n",
    "# 加载数据集\n",
    "data = pd.read_csv('/kaggle/input/waimai-10k/waimai_10k.csv')\n",
    "\n",
    "# 加载BERTmini的分词器\n",
    "tokenizer = BertTokenizer.from_pretrained('prajjwal1/bert-mini')\n",
    "\n",
    "# 定义函数将文本转换为模型输入\n",
    "def tokenize_text(text):\n",
    "    inputs = tokenizer(text, padding='max_length', truncation=True, max_length=128, return_tensors='pt')\n",
    "    return inputs\n",
    "\n",
    "# 对数据集中的文本进行分词处理\n",
    "input_ids = []\n",
    "attention_masks = []\n",
    "\n",
    "for text in data['review']:\n",
    "    inputs = tokenize_text(text)\n",
    "    input_ids.append(inputs['input_ids'])\n",
    "    attention_masks.append(inputs['attention_mask'])\n",
    "\n",
    "# 将标签转换为张量\n",
    "import torch\n",
    "labels = torch.tensor(data['label'].values)"
   ]
  },
  {
   "cell_type": "markdown",
   "metadata": {},
   "source": [
    "# 加载 BERTmini 模型\n",
    "\n",
    "根据文档当中，BERT 模型架构由 Embedding、Encoder 加上 prediction_heads 组成。我们直接加载预训练的 BERTmini 模型，并修改 prediction_heads 以适应我们的分类任务。"
   ]
  },
  {
   "cell_type": "code",
   "execution_count": 2,
   "metadata": {
    "execution": {
     "iopub.execute_input": "2025-07-13T04:50:57.603585Z",
     "iopub.status.busy": "2025-07-13T04:50:57.603175Z",
     "iopub.status.idle": "2025-07-13T04:51:22.089249Z",
     "shell.execute_reply": "2025-07-13T04:51:22.088657Z",
     "shell.execute_reply.started": "2025-07-13T04:50:57.603565Z"
    },
    "trusted": true
   },
   "outputs": [
    {
     "name": "stderr",
     "output_type": "stream",
     "text": [
      "2025-07-13 04:51:05.579802: E external/local_xla/xla/stream_executor/cuda/cuda_fft.cc:477] Unable to register cuFFT factory: Attempting to register factory for plugin cuFFT when one has already been registered\n",
      "WARNING: All log messages before absl::InitializeLog() is called are written to STDERR\n",
      "E0000 00:00:1752382265.915600      36 cuda_dnn.cc:8310] Unable to register cuDNN factory: Attempting to register factory for plugin cuDNN when one has already been registered\n",
      "E0000 00:00:1752382266.011473      36 cuda_blas.cc:1418] Unable to register cuBLAS factory: Attempting to register factory for plugin cuBLAS when one has already been registered\n"
     ]
    },
    {
     "data": {
      "application/vnd.jupyter.widget-view+json": {
       "model_id": "f1c819ee86b640029eacb0212e9452d5",
       "version_major": 2,
       "version_minor": 0
      },
      "text/plain": [
       "pytorch_model.bin:   0%|          | 0.00/45.1M [00:00<?, ?B/s]"
      ]
     },
     "metadata": {},
     "output_type": "display_data"
    },
    {
     "name": "stderr",
     "output_type": "stream",
     "text": [
      "Some weights of BertForSequenceClassification were not initialized from the model checkpoint at prajjwal1/bert-mini and are newly initialized: ['classifier.bias', 'classifier.weight']\n",
      "You should probably TRAIN this model on a down-stream task to be able to use it for predictions and inference.\n"
     ]
    }
   ],
   "source": [
    "from transformers import BertForSequenceClassification\n",
    "\n",
    "# 加载预训练的BERTmini模型\n",
    "model = BertForSequenceClassification.from_pretrained('prajjwal1/bert-mini', num_labels=2)"
   ]
  },
  {
   "cell_type": "markdown",
   "metadata": {},
   "source": [
    "# 划分数据集\n",
    "\n",
    "为了评估模型的性能，我们将数据集划分为训练集和验证集。"
   ]
  },
  {
   "cell_type": "code",
   "execution_count": 3,
   "metadata": {
    "execution": {
     "iopub.execute_input": "2025-07-13T04:51:22.090590Z",
     "iopub.status.busy": "2025-07-13T04:51:22.090082Z",
     "iopub.status.idle": "2025-07-13T04:51:22.213993Z",
     "shell.execute_reply": "2025-07-13T04:51:22.213277Z",
     "shell.execute_reply.started": "2025-07-13T04:51:22.090569Z"
    },
    "trusted": true
   },
   "outputs": [],
   "source": [
    "from sklearn.model_selection import train_test_split\n",
    "\n",
    "# 将输入数据转换为张量\n",
    "input_ids = torch.cat(input_ids, dim=0)\n",
    "attention_masks = torch.cat(attention_masks, dim=0)\n",
    "\n",
    "# 划分训练集和验证集\n",
    "train_inputs, validation_inputs, train_labels, validation_labels = train_test_split(input_ids, labels, random_state=2023, test_size=0.2)\n",
    "train_masks, validation_masks, _, _ = train_test_split(attention_masks, labels, random_state=2023, test_size=0.2)"
   ]
  },
  {
   "cell_type": "markdown",
   "metadata": {},
   "source": [
    "# 创建数据加载器\n",
    "使用```DataLoader```来批量加载数据，提高训练效率。"
   ]
  },
  {
   "cell_type": "code",
   "execution_count": 4,
   "metadata": {
    "execution": {
     "iopub.execute_input": "2025-07-13T04:51:22.216175Z",
     "iopub.status.busy": "2025-07-13T04:51:22.215715Z",
     "iopub.status.idle": "2025-07-13T04:51:22.220876Z",
     "shell.execute_reply": "2025-07-13T04:51:22.220199Z",
     "shell.execute_reply.started": "2025-07-13T04:51:22.216153Z"
    },
    "trusted": true
   },
   "outputs": [],
   "source": [
    "from torch.utils.data import TensorDataset, DataLoader, RandomSampler, SequentialSampler\n",
    "\n",
    "# 创建训练集和验证集的数据集\n",
    "train_data = TensorDataset(train_inputs, train_masks, train_labels)\n",
    "train_sampler = RandomSampler(train_data)\n",
    "train_dataloader = DataLoader(train_data, sampler=train_sampler, batch_size=16)\n",
    "\n",
    "validation_data = TensorDataset(validation_inputs, validation_masks, validation_labels)\n",
    "validation_sampler = SequentialSampler(validation_data)\n",
    "validation_dataloader = DataLoader(validation_data, sampler=validation_sampler, batch_size=16)"
   ]
  },
  {
   "cell_type": "markdown",
   "metadata": {},
   "source": [
    "# 微调模型\n",
    "\n",
    "根据教程文档，微调其实和训练时更新模型参数的策略一致，只不过是在特定的任务中，通过更少的训练数据，更小的batch_size上进行训练，用小成本达到我们想要的效果，值得注意的是模型更新参数的幅度更小。"
   ]
  },
  {
   "cell_type": "code",
   "execution_count": 5,
   "metadata": {
    "execution": {
     "iopub.execute_input": "2025-07-13T04:51:22.222058Z",
     "iopub.status.busy": "2025-07-13T04:51:22.221796Z",
     "iopub.status.idle": "2025-07-13T04:52:02.544786Z",
     "shell.execute_reply": "2025-07-13T04:52:02.544057Z",
     "shell.execute_reply.started": "2025-07-13T04:51:22.222033Z"
    },
    "trusted": true
   },
   "outputs": [
    {
     "data": {
      "application/vnd.jupyter.widget-view+json": {
       "model_id": "fa39985143684fb7b0453d516b39bd9e",
       "version_major": 2,
       "version_minor": 0
      },
      "text/plain": [
       "model.safetensors:   0%|          | 0.00/45.1M [00:00<?, ?B/s]"
      ]
     },
     "metadata": {},
     "output_type": "display_data"
    },
    {
     "name": "stdout",
     "output_type": "stream",
     "text": [
      "Epoch 1: Average training loss = 0.5812016006310781\n",
      "Epoch 1: Validation Loss = 0.5427104336023331, Validation Accuracy = 0.7267857142857143\n",
      "Epoch 2: Average training loss = 0.51846508299311\n",
      "Epoch 2: Validation Loss = 0.5284070480863253, Validation Accuracy = 0.7367857142857143\n",
      "Epoch 3: Average training loss = 0.5003033414731423\n",
      "Epoch 3: Validation Loss = 0.5085438886781534, Validation Accuracy = 0.7560119047619047\n"
     ]
    }
   ],
   "source": [
    "import torch.nn as nn\n",
    "import torch.optim as optim\n",
    "from transformers import BertForSequenceClassification\n",
    "from torch.optim import AdamW\n",
    "\n",
    "optimizer = AdamW(model.parameters(), lr=2e-5)\n",
    "\n",
    "# 定义训练轮数\n",
    "epochs = 3\n",
    "\n",
    "# 训练模型\n",
    "device = torch.device(\"cuda\" if torch.cuda.is_available() else \"cpu\")\n",
    "model.to(device)\n",
    "\n",
    "for epoch in range(epochs):\n",
    "    model.train()\n",
    "    total_loss = 0\n",
    "    for step, batch in enumerate(train_dataloader):\n",
    "        b_input_ids = batch[0].to(device)\n",
    "        b_input_mask = batch[1].to(device)\n",
    "        b_labels = batch[2].to(device)\n",
    "\n",
    "        model.zero_grad()\n",
    "\n",
    "        outputs = model(b_input_ids, \n",
    "                        token_type_ids=None, \n",
    "                        attention_mask=b_input_mask, \n",
    "                        labels=b_labels)\n",
    "        loss = outputs.loss\n",
    "        total_loss += loss.item()\n",
    "        loss.backward()\n",
    "        optimizer.step()\n",
    "\n",
    "    avg_train_loss = total_loss / len(train_dataloader)\n",
    "    print(f'Epoch {epoch+1}: Average training loss = {avg_train_loss}')\n",
    "\n",
    "    # 验证模型\n",
    "    model.eval()\n",
    "    total_eval_accuracy = 0\n",
    "    total_eval_loss = 0\n",
    "\n",
    "    for batch in validation_dataloader:\n",
    "        b_input_ids = batch[0].to(device)\n",
    "        b_input_mask = batch[1].to(device)\n",
    "        b_labels = batch[2].to(device)\n",
    "\n",
    "        with torch.no_grad():\n",
    "            outputs = model(b_input_ids, \n",
    "                            token_type_ids=None, \n",
    "                            attention_mask=b_input_mask, \n",
    "                            labels=b_labels)\n",
    "            loss = outputs.loss\n",
    "            logits = outputs.logits\n",
    "\n",
    "        total_eval_loss += loss.item()\n",
    "        logits = logits.detach().cpu().numpy()\n",
    "        label_ids = b_labels.to('cpu').numpy()\n",
    "        total_eval_accuracy += (logits.argmax(axis=1) == label_ids).mean()\n",
    "\n",
    "    avg_val_accuracy = total_eval_accuracy / len(validation_dataloader)\n",
    "    avg_val_loss = total_eval_loss / len(validation_dataloader)\n",
    "    print(f'Epoch {epoch+1}: Validation Loss = {avg_val_loss}, Validation Accuracy = {avg_val_accuracy}')"
   ]
  },
  {
   "cell_type": "code",
   "execution_count": 6,
   "metadata": {
    "execution": {
     "iopub.execute_input": "2025-07-13T04:52:54.902076Z",
     "iopub.status.busy": "2025-07-13T04:52:54.901346Z",
     "iopub.status.idle": "2025-07-13T04:52:54.943080Z",
     "shell.execute_reply": "2025-07-13T04:52:54.942346Z",
     "shell.execute_reply.started": "2025-07-13T04:52:54.902039Z"
    },
    "trusted": true
   },
   "outputs": [
    {
     "name": "stdout",
     "output_type": "stream",
     "text": [
      "文本: 这家店的外卖太好吃了，下次还会点！\n",
      "预测标签: 消极\n",
      "积极概率: 0.2427, 消极概率: 0.7573\n",
      "--------------------------------------------------\n",
      "文本: 这外卖太难吃了，再也不会买了。\n",
      "预测标签: 消极\n",
      "积极概率: 0.1318, 消极概率: 0.8682\n",
      "--------------------------------------------------\n"
     ]
    }
   ],
   "source": [
    "new_reviews = [\n",
    "    \"这家店的外卖太好吃了，下次还会点！\",\n",
    "    \"这外卖太难吃了，再也不会买了。\"\n",
    "]\n",
    "\n",
    "# 对新数据进行分词处理\n",
    "input_ids = []\n",
    "attention_masks = []\n",
    "\n",
    "for review in new_reviews:\n",
    "    inputs = tokenizer(review, padding='max_length', truncation=True, max_length=128, return_tensors='pt')\n",
    "    input_ids.append(inputs['input_ids'])\n",
    "    attention_masks.append(inputs['attention_mask'])\n",
    "input_ids = torch.cat(input_ids, dim=0)\n",
    "attention_masks = torch.cat(attention_masks, dim=0)\n",
    "\n",
    "# 创建数据集和数据加载器\n",
    "prediction_data = TensorDataset(input_ids, attention_masks)\n",
    "prediction_sampler = SequentialSampler(prediction_data)\n",
    "prediction_dataloader = DataLoader(prediction_data, sampler=prediction_sampler, batch_size=16)\n",
    "# 将模型设置为评估模式\n",
    "model.eval()\n",
    "\n",
    "# 存储预测结果和概率\n",
    "predictions = []\n",
    "probabilities = []\n",
    "for batch in prediction_dataloader:\n",
    "    b_input_ids = batch[0].to(device)\n",
    "    b_input_mask = batch[1].to(device)\n",
    "\n",
    "    with torch.no_grad():\n",
    "        outputs = model(b_input_ids, token_type_ids=None, attention_mask=b_input_mask)\n",
    "        logits = outputs.logits\n",
    "        probs = torch.softmax(logits, dim=1)\n",
    "        preds = torch.argmax(logits, dim=1)\n",
    "\n",
    "    predictions.extend(preds.cpu().numpy())\n",
    "    probabilities.extend(probs.cpu().numpy())\n",
    "# 展示预测结果\n",
    "for i in range(len(new_reviews)):\n",
    "    print(f\"文本: {new_reviews[i]}\")\n",
    "    print(f\"预测标签: {'积极' if predictions[i] == 1 else '消极'}\")\n",
    "    print(f\"积极概率: {probabilities[i][1]:.4f}, 消极概率: {probabilities[i][0]:.4f}\")\n",
    "    print(\"-\" * 50)"
   ]
  },
  {
   "cell_type": "markdown",
   "metadata": {},
   "source": [
    "# 总结\n",
    "\n",
    "通过以上步骤，我们结合文档中 BERT 模型的相关知识，使用预训练的 BERT-mini 模型在waimai_10k.csv数据集上进行了微调。在微调过程中，我们遵循了预训练 - 微调的范式，利用已有的预训练模型在特定任务上进行了高效的训练。最终，我们可以通过验证集的准确率来评估模型在该任务上的性能。"
   ]
  }
 ],
 "metadata": {
  "kaggle": {
   "accelerator": "nvidiaTeslaT4",
   "dataSources": [
    {
     "datasetId": 3688534,
     "sourceId": 6397915,
     "sourceType": "datasetVersion"
    }
   ],
   "dockerImageVersionId": 31090,
   "isGpuEnabled": true,
   "isInternetEnabled": true,
   "language": "python",
   "sourceType": "notebook"
  },
  "kernelspec": {
   "display_name": "deeplearing",
   "language": "python",
   "name": "python3"
  },
  "language_info": {
   "codemirror_mode": {
    "name": "ipython",
    "version": 3
   },
   "file_extension": ".py",
   "mimetype": "text/x-python",
   "name": "python",
   "nbconvert_exporter": "python",
   "pygments_lexer": "ipython3",
   "version": "3.9.23"
  }
 },
 "nbformat": 4,
 "nbformat_minor": 4
}
