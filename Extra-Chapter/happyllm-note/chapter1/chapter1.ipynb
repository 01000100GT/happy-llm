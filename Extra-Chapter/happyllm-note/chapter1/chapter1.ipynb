{
 "cells": [
  {
   "cell_type": "markdown",
   "id": "6d2c41a7",
   "metadata": {},
   "source": [
    "# 第一章笔记\n",
    "\n",
    "## 什么是NLP\n",
    "\n",
    "NLP 是让计算机理解、解释和生成人类语言的技术，结合多学科知识，旨在打破人类与计算机语言障碍。它能执行多种语言处理任务，如中文分词、文本分类等，不仅要处理语言表层结构，更要理解深层含义。尽管深度学习使 NLP 取得显著进步，但仍面临处理歧义性等挑战。\n",
    "\n",
    "## NLP 发展历程\n",
    "- 早期探索（1940 年代 - 1960 年代）：始于二战后对机器翻译的需求，1950 年图灵提出图灵测试，诺姆・乔姆斯基提出生成语法理论，但当时机器翻译系统简单，效果不佳。\n",
    "\n",
    "- 符号主义与统计方法（1970 年代 - 1990 年代）：研究者分为符号主义和统计方法两大阵营，80 年代统计模型开始取代复杂规则。\n",
    "\n",
    "- 机器学习与深度学习（2000 年代至今）：深度学习技术推动 NLP 显著进步，如 RNN、LSTM、注意力机制等广泛应用，Word2Vec 开创词向量表示新时代，BERT 引领预训练语言模型新浪潮，基于 Transformer 的模型如 GPT - 3 能生成高质量文本。\n"
   ]
  },
  {
   "cell_type": "markdown",
   "id": "843ea9ce",
   "metadata": {},
   "source": [
    "## NLP 任务\n",
    "\n",
    "### 中文分词\n",
    "\n",
    "因中文词间无明显分隔，需将连续中文文本切分成有意义的词汇序列，正确分词对后续任务至关重要。具体实现的代码如下："
   ]
  },
  {
   "cell_type": "code",
   "execution_count": 1,
   "id": "63252cd5",
   "metadata": {},
   "outputs": [
    {
     "name": "stderr",
     "output_type": "stream",
     "text": [
      "Building prefix dict from the default dictionary ...\n",
      "Dumping model to file cache C:\\Users\\xnlll\\AppData\\Local\\Temp\\jieba.cache\n",
      "Loading model cost 0.892 seconds.\n",
      "Prefix dict has been built successfully.\n"
     ]
    },
    {
     "name": "stdout",
     "output_type": "stream",
     "text": [
      "['今天天气', '真', '好', '，', '适合', '出去', '游玩', '。']\n"
     ]
    }
   ],
   "source": [
    "import jieba\n",
    "text = \"今天天气真好，适合出去游玩。\"\n",
    "words = jieba.lcut(text)\n",
    "print(words)"
   ]
  },
  {
   "cell_type": "markdown",
   "id": "4b7b98c4",
   "metadata": {},
   "source": [
    "### 补充知识点：Jieba库\n",
    "\n",
    "Jieba库是优秀的中文分词第三方库，中文文本需要通过分词获得单个的词语。\n",
    "(pip install jieba)\n",
    "\n",
    "Jieba库的分词原理：利用一个中文词库，确定汉字之间的关联概率，汉字间概率大的组成词组，形成分词结果。除了分词，用户还可以添加自定义的词组。\n",
    "\n",
    "Jieba库分词有3种模式：\n",
    "- 精确模式：将文本精确地切分成词语，不存在冗余词语。\n",
    "- 全模式：将文本中所有可能的词语都切分出来，存在冗余。\n",
    "- 搜索引擎模式：在精确模式基础上，对发现的那些长的词语，我们会对它再次切分，进而适合搜索引擎对短词语的索引和搜索。也有冗余。\n",
    "\n",
    "代码分别是："
   ]
  },
  {
   "cell_type": "code",
   "execution_count": null,
   "id": "e02184c3",
   "metadata": {},
   "outputs": [
    {
     "name": "stdout",
     "output_type": "stream",
     "text": [
      "['平二川', '，', '定三足', '，', '恍惚', '草堂', '梦里', '，', '挥斥', '千古', '风流']\n"
     ]
    }
   ],
   "source": [
    "import jieba\n",
    "#精确模式\n",
    "print(jieba.lcut('平二川，定三足，恍惚草堂梦里，挥斥千古风流'))"
   ]
  },
  {
   "cell_type": "code",
   "execution_count": null,
   "id": "600128f4",
   "metadata": {},
   "outputs": [
    {
     "name": "stdout",
     "output_type": "stream",
     "text": [
      "['平', '二', '川', '，', '定', '三', '足', '，', '恍惚', '草堂', '梦', '里', '，', '挥斥', '千古', '古风', '风流']\n"
     ]
    }
   ],
   "source": [
    "#全模式\n",
    "print(jieba.lcut('平二川，定三足，恍惚草堂梦里，挥斥千古风流',cut_all=True))"
   ]
  },
  {
   "cell_type": "code",
   "execution_count": null,
   "id": "c3d144be",
   "metadata": {},
   "outputs": [
    {
     "name": "stdout",
     "output_type": "stream",
     "text": [
      "['平二川', '，', '定三足', '，', '恍惚', '草堂', '梦里', '，', '挥斥', '千古', '风流']\n"
     ]
    }
   ],
   "source": [
    "# 搜索引擎模式\n",
    "print(jieba.lcut_for_search('平二川，定三足，恍惚草堂梦里，挥斥千古风流'))"
   ]
  },
  {
   "cell_type": "markdown",
   "id": "a5e0250b",
   "metadata": {},
   "source": [
    "## 子词切分\n",
    "\n",
    "将词汇分解为更小的子词，适用于处理词汇稀疏问题，常见方法有 BPE、WordPiece 等。\n",
    "\n",
    "下面是实现代码："
   ]
  },
  {
   "cell_type": "code",
   "execution_count": null,
   "id": "420b62d7",
   "metadata": {},
   "outputs": [
    {
     "name": "stdout",
     "output_type": "stream",
     "text": [
      "合并步骤 1: ('e', 's')\n",
      "更新后的词汇表: {'l o w': 5, 'l o w e r': 2, 'n e w es t': 6, 'w i d es t': 3}\n",
      "\n",
      "合并步骤 2: ('es', 't')\n",
      "更新后的词汇表: {'l o w': 5, 'l o w e r': 2, 'n e w est': 6, 'w i d est': 3}\n",
      "\n",
      "合并步骤 3: ('l', 'o')\n",
      "更新后的词汇表: {'lo w': 5, 'lo w e r': 2, 'n e w est': 6, 'w i d est': 3}\n",
      "\n",
      "最终子词词典: {'lo w': 5, 'lo w e r': 2, 'n e w est': 6, 'w i d est': 3}\n"
     ]
    }
   ],
   "source": [
    "#BPE方法\n",
    "#注：合并之后字符之间是没有空格的\n",
    "import re\n",
    "from collections import defaultdict\n",
    "def get_stats(vocab):\n",
    "    \"\"\"计算字符对的频率\"\"\"\n",
    "    pairs = defaultdict(int)\n",
    "    for word, freq in vocab.items():\n",
    "        symbols = word.split()\n",
    "        for i in range(len(symbols)-1):\n",
    "            pairs[symbols[i], symbols[i+1]] += freq\n",
    "    return pairs\n",
    "def merge_vocab(pair, v_in):\n",
    "    \"\"\"合并最频繁的字符对\"\"\"\n",
    "    v_out = {}\n",
    "    bigram = re.escape(' '.join(pair))\n",
    "    p = re.compile(r'(?<!\\S)' + bigram + r'(?!\\S)')\n",
    "    for word in v_in:\n",
    "        w_out = p.sub(''.join(pair), word)\n",
    "        v_out[w_out] = v_in[word]\n",
    "    return v_out\n",
    "vocab = {'l o w': 5, 'l o w e r': 2, 'n e w e s t': 6, 'w i d e s t': 3}\n",
    "num_merges = 3  # 合并次数\n",
    "for i in range(num_merges):\n",
    "    pairs = get_stats(vocab)\n",
    "    if not pairs:\n",
    "        break\n",
    "    best = max(pairs, key=pairs.get)\n",
    "    vocab = merge_vocab(best, vocab)\n",
    "    print(f\"合并步骤 {i+1}: {best}\")\n",
    "    print(f\"更新后的词汇表: {vocab}\\n\")\n",
    "# 输出最终的子词词典\n",
    "print(\"最终子词词典:\", vocab)"
   ]
  },
  {
   "cell_type": "code",
   "execution_count": 28,
   "id": "2c819439",
   "metadata": {},
   "outputs": [
    {
     "name": "stdout",
     "output_type": "stream",
     "text": [
      "合并步骤 1: ('e', 's')\n",
      "更新后的词汇表: {'n e w es t': 6, 'w i d es t': 3}\n",
      "\n",
      "合并步骤 2: ('es', 't')\n",
      "更新后的词汇表: {'n e w est': 6, 'w i d est': 3}\n",
      "\n",
      "合并步骤 3: ('n', 'e')\n",
      "更新后的词汇表: {'ne w est': 6}\n",
      "\n",
      "最终子词词典: {'ne w est': 6}\n"
     ]
    }
   ],
   "source": [
    "# 示例：WordPiece实现（简化版）\n",
    "import re\n",
    "from collections import defaultdict, Counter\n",
    "def get_stats(vocab):\n",
    "    \"\"\"计算字符对的频率\"\"\"\n",
    "    pairs = defaultdict(int)\n",
    "    for word, freq in vocab.items():\n",
    "        symbols = word.split()\n",
    "        for i in range(len(symbols)-1):\n",
    "            pairs[symbols[i], symbols[i+1]] += freq\n",
    "    return pairs\n",
    "def compute_score(pair, counts):\n",
    "    \"\"\"计算WordPiece合并得分\"\"\"\n",
    "    return counts.get(pair, 0)\n",
    "def merge_vocab(pair, v_in):\n",
    "    \"\"\"合并最频繁的字符对\"\"\"\n",
    "    v_out = {}\n",
    "    bigram = ' '.join(pair)\n",
    "    replacement = ''.join(pair)\n",
    "    for word in v_in:\n",
    "        if bigram in word:\n",
    "            new_word = word.replace(bigram, replacement)\n",
    "            v_out[new_word] = v_in[word]\n",
    "    return v_out\n",
    "vocab = {'l o w': 5, 'l o w e r': 2, 'n e w e s t': 6, 'w i d e s t': 3}\n",
    "num_merges = 3  # 合并次数\n",
    "for i in range(num_merges):\n",
    "    pairs = get_stats(vocab)\n",
    "    if not pairs:\n",
    "        break\n",
    "    # 计算每个字符对的得分（这里简化为频率）\n",
    "    scores = {pair: compute_score(pair, pairs) for pair in pairs}\n",
    "    best = max(scores, key=scores.get)\n",
    "    vocab = merge_vocab(best, vocab)\n",
    "    print(f\"合并步骤 {i+1}: {best}\")\n",
    "    print(f\"更新后的词汇表: {vocab}\\n\")\n",
    "print(\"最终子词词典:\", vocab)"
   ]
  },
  {
   "cell_type": "markdown",
   "id": "5bff6533",
   "metadata": {},
   "source": [
    "## 词性标注\n",
    "\n",
    "为文本中每个单词分配**词性标签**，基于机器学习模型，如 HMM、CRF 等。\n",
    "\n",
    "下面将会分别使用HMM、CRF进行代码演示"
   ]
  },
  {
   "cell_type": "markdown",
   "id": "ff478209",
   "metadata": {},
   "source": [
    "### HMM 词性标注器实现\n",
    "隐马尔可夫模型 (HMM) 通过计算隐藏状态 (词性) 和观察序列 (词语) 之间的**概率关系**来进行词性标注。\n",
    "\n",
    "以下是一个简化的 HMM 词性标注器实现："
   ]
  },
  {
   "cell_type": "code",
   "execution_count": null,
   "id": "3c17462d",
   "metadata": {},
   "outputs": [
    {
     "name": "stdout",
     "output_type": "stream",
     "text": [
      "HMM词性标注结果: [('I', 'PRP'), ('love', 'VBP'), ('natural', 'JJ'), ('language', 'NN'), ('processing', 'NN')]\n"
     ]
    }
   ],
   "source": [
    "#HMM模型演示代码\n",
    "import numpy as np\n",
    "from collections import defaultdict, Counter\n",
    "class HMMPOSTagger:\n",
    "    def __init__(self):\n",
    "        self.transition_counts = defaultdict(Counter)  # 状态转移计数\n",
    "        self.emission_counts = defaultdict(Counter)    # 发射计数\n",
    "        self.state_counts = Counter()                  # 状态计数\n",
    "        self.states = set()                            # 词性集合\n",
    "        self.vocab = set()                             # 词汇表\n",
    "    def train(self, sentences):\n",
    "        \"\"\"训练HMM模型\"\"\"\n",
    "        for sentence in sentences:\n",
    "            prev_tag = None\n",
    "            for word, tag in sentence:\n",
    "                # 更新发射计数\n",
    "                self.emission_counts[tag][word] += 1\n",
    "                # 更新状态计数\n",
    "                self.state_counts[tag] += 1\n",
    "                # 更新转移计数\n",
    "                if prev_tag is not None:\n",
    "                    self.transition_counts[prev_tag][tag] += 1\n",
    "                prev_tag = tag\n",
    "                # 添加到状态集和词汇表\n",
    "                self.states.add(tag)\n",
    "                self.vocab.add(word)\n",
    "        # 转换为概率矩阵\n",
    "        self.states = sorted(self.states)\n",
    "        self.vocab = sorted(self.vocab)\n",
    "        self.state_index = {s: i for i, s in enumerate(self.states)}\n",
    "        self.word_index = {w: i for i, w in enumerate(self.vocab)}\n",
    "        # 初始化转移矩阵和发射矩阵\n",
    "        n_states = len(self.states)\n",
    "        n_words = len(self.vocab)\n",
    "        self.transition_matrix = np.zeros((n_states, n_states))\n",
    "        self.emission_matrix = np.zeros((n_states, n_words))\n",
    "        # 填充转移矩阵\n",
    "        for prev_state in self.states:\n",
    "            prev_idx = self.state_index[prev_state]\n",
    "            total = sum(self.transition_counts[prev_state].values())\n",
    "            for next_state in self.states:\n",
    "                next_idx = self.state_index[next_state]\n",
    "                self.transition_matrix[prev_idx, next_idx] = (\n",
    "                    self.transition_counts[prev_state][next_state] / total if total > 0 else 0\n",
    "                )  \n",
    "        # 填充发射矩阵\n",
    "        for state in self.states:\n",
    "            state_idx = self.state_index[state]\n",
    "            total = self.state_counts[state]\n",
    "            for word in self.vocab:\n",
    "                word_idx = self.word_index[word]\n",
    "                self.emission_matrix[state_idx, word_idx] = (\n",
    "                    self.emission_counts[state][word] / total if total > 0 else 0\n",
    "                )\n",
    "\n",
    "    def viterbi(self, words):\n",
    "        \"\"\"使用Viterbi算法进行词性标注\"\"\"\n",
    "        n = len(words)\n",
    "        m = len(self.states)\n",
    "        # 初始化Viterbi矩阵和回溯矩阵\n",
    "        viterbi = np.zeros((n, m))\n",
    "        backpointer = np.zeros((n, m), dtype=int)\n",
    "        # 处理第一个词\n",
    "        for i, state in enumerate(self.states):\n",
    "            # 如果词在词汇表中，使用发射概率\n",
    "            if words[0] in self.word_index:\n",
    "                word_idx = self.word_index[words[0]]\n",
    "                emission_prob = self.emission_matrix[i, word_idx]\n",
    "            else:\n",
    "                # 未知词处理，使用均匀概率\n",
    "                emission_prob = 1.0 / len(self.vocab) if self.vocab else 1.0\n",
    "            # 假设初始状态概率均匀\n",
    "            viterbi[0, i] = emission_prob / m\n",
    "            backpointer[0, i] = 0\n",
    "        # 递推计算后续词\n",
    "        for t in range(1, n):\n",
    "            for j, state in enumerate(self.states):\n",
    "                max_prob = -1\n",
    "                max_state = 0\n",
    "                # 如果词在词汇表中，使用发射概率\n",
    "                if words[t] in self.word_index:\n",
    "                    word_idx = self.word_index[words[t]]\n",
    "                    emission_prob = self.emission_matrix[j, word_idx]\n",
    "                else:\n",
    "                    # 未知词处理\n",
    "                    emission_prob = 1.0 / len(self.vocab) if self.vocab else 1.0\n",
    "                for k, prev_state in enumerate(self.states):\n",
    "                    transition_prob = self.transition_matrix[k, j]\n",
    "                    current_prob = viterbi[t-1, k] * transition_prob * emission_prob\n",
    "                    if current_prob > max_prob:\n",
    "                        max_prob = current_prob\n",
    "                        max_state = k\n",
    "                viterbi[t, j] = max_prob\n",
    "                backpointer[t, j] = max_state\n",
    "        # 回溯最优路径\n",
    "        best_path = [0] * n\n",
    "        best_path[-1] = np.argmax(viterbi[-1, :])\n",
    "        for t in range(n-2, -1, -1):\n",
    "            best_path[t] = backpointer[t+1, best_path[t+1]]\n",
    "        # 将状态索引转换为词性标签\n",
    "        state_to_tag = {i: s for s, i in self.state_index.items()}\n",
    "        return [state_to_tag[i] for i in best_path]\n",
    "    def tag(self, sentence):\n",
    "        \"\"\"对句子进行词性标注\"\"\"\n",
    "        return self.viterbi(sentence)\n",
    "\n",
    "#使用示例\n",
    "# 训练数据\n",
    "train_data = [\n",
    "    [(\"I\", \"PRP\"), (\"love\", \"VBP\"), (\"natural\", \"JJ\"), (\"language\", \"NN\"), (\"processing\", \"NN\")],\n",
    "    [(\"Natural\", \"JJ\"), (\"language\", \"NN\"), (\"processing\", \"NN\"), (\"is\", \"VBZ\"), (\"fun\", \"NN\")]\n",
    "]\n",
    "# 测试句子\n",
    "test_sentence = [\"I\", \"love\", \"natural\", \"language\", \"processing\"]\n",
    "# 训练HMM模型\n",
    "hmm_tagger = HMMPOSTagger()\n",
    "hmm_tagger.train(train_data)\n",
    "# 进行词性标注\n",
    "tags = hmm_tagger.tag(test_sentence)\n",
    "print(\"HMM词性标注结果:\", list(zip(test_sentence, tags)))"
   ]
  },
  {
   "cell_type": "markdown",
   "id": "52b9eaec",
   "metadata": {},
   "source": [
    "可以看到，根据输入的测试结果，我们可以很容易的就把单词对应的词性完整的标注出来。\n",
    "\n",
    "### CRF 词性标注器实现\n",
    "\n",
    "条件随机场 (CRF) 是一种判别式概率模型，特别适合序列标注任务。\n",
    "\n",
    "在这里我们使用sklearn-crfsuite库来实现 CRF 词性标注器：\n",
    "\n",
    "需要提前下载：pip install sklearn-crfsuite"
   ]
  },
  {
   "cell_type": "code",
   "execution_count": null,
   "id": "b18645aa",
   "metadata": {},
   "outputs": [
    {
     "name": "stdout",
     "output_type": "stream",
     "text": [
      "CRF词性标注结果: [('I', 'PRP'), ('love', 'VBP'), ('natural', 'JJ'), ('language', 'NN'), ('processing', 'NN')]\n"
     ]
    }
   ],
   "source": [
    "import numpy as np\n",
    "from sklearn_crfsuite import CRF\n",
    "from sklearn_crfsuite.metrics import flat_f1_score\n",
    "\n",
    "class CRFPOSTagger:\n",
    "    def __init__(self):\n",
    "        self.model = CRF(\n",
    "            algorithm='lbfgs',\n",
    "            c1=0.1,\n",
    "            c2=0.1,\n",
    "            max_iterations=100,\n",
    "            all_possible_transitions=True\n",
    "        )\n",
    "    def word2features(self, sentence, i):\n",
    "        \"\"\"提取特征\"\"\"\n",
    "        word = sentence[i]\n",
    "        features = {\n",
    "            'bias': 1.0,\n",
    "            'word.lower()': word.lower(),\n",
    "            'word[-3:]': word[-3:],\n",
    "            'word[-2:]': word[-2:],\n",
    "            'word.isupper()': word.isupper(),\n",
    "            'word.istitle()': word.istitle(),\n",
    "            'word.isdigit()': word.isdigit(),\n",
    "        }\n",
    "        # 前一个词的特征\n",
    "        if i > 0:\n",
    "            prev_word = sentence[i-1]\n",
    "            features.update({\n",
    "                '-1:word.lower()': prev_word.lower(),\n",
    "                '-1:word.istitle()': prev_word.istitle(),\n",
    "                '-1:word.isupper()': prev_word.isupper(),\n",
    "            })\n",
    "        else:\n",
    "            features['BOS'] = True  # 句首标记\n",
    "        # 后一个词的特征\n",
    "        if i < len(sentence) - 1:\n",
    "            next_word = sentence[i+1]\n",
    "            features.update({\n",
    "                '+1:word.lower()': next_word.lower(),\n",
    "                '+1:word.istitle()': next_word.istitle(),\n",
    "                '+1:word.isupper()': next_word.isupper(),\n",
    "            })\n",
    "        else:\n",
    "            features['EOS'] = True  # 句尾标记\n",
    "            \n",
    "        return features  \n",
    "    \n",
    "    def sent2features(self, sentence):\n",
    "        \"\"\"为句子中的每个词提取特征\"\"\"\n",
    "        return [self.word2features(sentence, i) for i in range(len(sentence))]  \n",
    "    def train(self, X_train, y_train):\n",
    "        \"\"\"训练CRF模型\"\"\"\n",
    "        X_features = [self.sent2features(s) for s in X_train]\n",
    "        self.model.fit(X_features, y_train)\n",
    "    def tag(self, sentence):\n",
    "        \"\"\"对句子进行词性标注\"\"\"\n",
    "        features = self.sent2features(sentence)\n",
    "        return self.model.predict_single(features)\n",
    "    \n",
    "# 训练数据示例\n",
    "X_train = [\n",
    "    [\"I\", \"love\", \"natural\", \"language\", \"processing\"],\n",
    "    [\"Natural\", \"language\", \"processing\", \"is\", \"fun\"]\n",
    "]\n",
    "y_train = [\n",
    "    [\"PRP\", \"VBP\", \"JJ\", \"NN\", \"NN\"],\n",
    "    [\"JJ\", \"NN\", \"NN\", \"VBZ\", \"NN\"]\n",
    "]\n",
    "#此时是一一对应的\n",
    "# 测试句子\n",
    "test_sentence = [\"I\", \"love\", \"natural\", \"language\", \"processing\"]\n",
    "\n",
    "# 训练CRF模型\n",
    "crf_tagger = CRFPOSTagger()\n",
    "crf_tagger.train(X_train, y_train)\n",
    "\n",
    "# 进行词性标注\n",
    "tags = crf_tagger.tag(test_sentence)\n",
    "print(\"CRF词性标注结果:\", list(zip(test_sentence, tags)))"
   ]
  },
  {
   "cell_type": "markdown",
   "id": "05f1e53d",
   "metadata": {},
   "source": [
    "## 文本分类\n",
    "\n",
    "将给定文本自动分配到预定义类别，广泛应用于情感分析等场景，深度学习用于文本分类成趋势。\n",
    "\n",
    "演示代码如下："
   ]
  },
  {
   "cell_type": "code",
   "execution_count": 20,
   "id": "c7815217",
   "metadata": {},
   "outputs": [
    {
     "name": "stdout",
     "output_type": "stream",
     "text": [
      "['科技']\n",
      "['政治']\n",
      "['体育']\n",
      "['体育']\n"
     ]
    }
   ],
   "source": [
    "from sklearn.feature_extraction.text import TfidfVectorizer\n",
    "from sklearn.naive_bayes import MultinomialNB\n",
    "from sklearn.pipeline import Pipeline\n",
    "\n",
    "texts = [\"NBA季后赛将于下周开始，湖人和勇士将在首轮对决。\", \"美国总统宣布将提高关税，引发国际贸易争端。\", \"苹果公司发布了新款 Macbook，配备了最新的m3芯片。\"]\n",
    "labels = [\"体育\", \"政治\", \"科技\"]\n",
    "\n",
    "pipeline = Pipeline([\n",
    "    ('tfidf', TfidfVectorizer()),\n",
    "    ('clf', MultinomialNB())\n",
    "])\n",
    "pipeline.fit(texts, labels)\n",
    "new_text = \"苹果公司发布了新款 Macbook，配备了最新的m3芯片。\"\n",
    "predicted = pipeline.predict([new_text])\n",
    "print(predicted)\n",
    "\n",
    "new_text = \"美国总统宣布将提高关税，引发国际贸易争端。\"\n",
    "predicted = pipeline.predict([new_text])\n",
    "print(predicted)\n",
    "\n",
    "new_text = \"新的足球赛事即将开启\"\n",
    "predicted = pipeline.predict([new_text])\n",
    "print(predicted)\n",
    "\n",
    "new_text = \"湖人和勇士将在首轮对决。\"\n",
    "predicted = pipeline.predict([new_text])\n",
    "print(predicted)"
   ]
  },
  {
   "cell_type": "markdown",
   "id": "9e2f77f5",
   "metadata": {},
   "source": [
    "## 实体识别\n",
    "\n",
    "自动识别文本中特定意义的实体并分类，对信息提取等应用重要。\n",
    "\n",
    "演示代码如下：\n",
    "（pip install spacy）"
   ]
  },
  {
   "cell_type": "code",
   "execution_count": null,
   "id": "e6a32c78",
   "metadata": {},
   "outputs": [
    {
     "name": "stdout",
     "output_type": "stream",
     "text": [
      "识别的实体: [('北京市', 'GPE'), ('海淀区', 'GPE'), ('上海', 'GPE'), ('2024年4月7日', 'DATE')]\n"
     ]
    }
   ],
   "source": [
    "import re\n",
    "import jieba\n",
    "import jieba.posseg as pseg\n",
    "class SimpleNER:\n",
    "    def __init__(self):\n",
    "        # 定义实体类型和对应的正则表达式模式\n",
    "        self.entity_patterns = {\n",
    "            'PERSON': re.compile(r'[李王张刘陈杨黄赵吴周徐孙马朱胡林郭何高罗郑梁谢宋唐韩曹许邓萧冯曾程蔡彭潘袁于董余苏叶吕魏蒋田杜丁沈姜范江傅钟卢汪戴崔任陆廖姚方金邱夏谭韦贾邹石熊孟秦阎薛侯雷白龙段郝孔邵史毛常万顾赖武康贺严尹钱施牛洪龚]'\n",
    "                               r'[伟芳娜秀英敏静强磊军洋勇艳杰涛明超李刚健亮玲建芳玉春秀大伟国庆解放]'\n",
    "                               r'(?:[伟芳娜秀英敏静强磊军洋勇艳杰涛明超李刚健亮玲建芳玉春秀大伟国庆解放])?'),\n",
    "            'GPE': re.compile(r'[京津沪渝蒙新藏宁桂港澳]|'\n",
    "                            r'[省市县镇村区]$|'\n",
    "                            r'(?:中国|北京|上海|天津|重庆|河北|山西|辽宁|吉林|黑龙江|江苏|浙江|安徽|福建|江西|山东|河南|湖北|湖南|广东|海南|四川|贵州|云南|陕西|甘肃|青海|台湾|香港|澳门)'),\n",
    "            'DATE': re.compile(r'\\d{4}年\\d{1,2}月\\d{1,2}日|\\d{1,2}月\\d{1,2}日|\\d{4}年'),\n",
    "            'ORG': re.compile(r'(?:公司|集团|学校|大学|医院|研究院|中心|局|厅|部|委员会|政府|协会|学会|报社|出版社|银行|商场|酒店)$')\n",
    "        }\n",
    "    def recognize_entities(self, text):\n",
    "        \"\"\"识别文本中的实体\"\"\"\n",
    "        entities = []\n",
    "        # 分词并获取词性\n",
    "        words = pseg.cut(text)\n",
    "        # 基于正则表达式的实体识别\n",
    "        for word, pos in words:\n",
    "            for entity_type, pattern in self.entity_patterns.items():\n",
    "                if pattern.search(word):\n",
    "                    entities.append((word, entity_type))\n",
    "        # 处理日期实体（结合上下文）\n",
    "        date_pattern = self.entity_patterns['DATE']\n",
    "        for match in date_pattern.finditer(text):\n",
    "            entities.append((match.group(0), 'DATE'))\n",
    "        # 处理组织机构名（结合词性）\n",
    "        org_words = []\n",
    "        for word, pos in words:\n",
    "            if pos.startswith('n') and re.search(self.entity_patterns['ORG'], word):\n",
    "                org_words.append(word)\n",
    "                entities.append((word, 'ORG'))\n",
    "        \n",
    "        return entities\n",
    "\n",
    "# 使用示例\n",
    "ner = SimpleNER()\n",
    "text = \"李雷和韩梅梅是北京市海淀区的居民，他们计划在2024年4月7日去上海旅行。\"\n",
    "entities = ner.recognize_entities(text)\n",
    "print(\"识别的实体:\", entities)"
   ]
  },
  {
   "cell_type": "markdown",
   "id": "faa56bdd",
   "metadata": {},
   "source": [
    "# 文本表示的发展历程\n",
    "## 词向量\n",
    "\n",
    "向量空间模型（VSM）将文本转换为高维空间向量，但存在数据稀疏性和维数灾难问题。"
   ]
  },
  {
   "cell_type": "code",
   "execution_count": null,
   "id": "963d1178",
   "metadata": {},
   "outputs": [
    {
     "name": "stdout",
     "output_type": "stream",
     "text": [
      "['雍和宫的荷花很美']\n",
      "[[1]]\n"
     ]
    }
   ],
   "source": [
    "from sklearn.feature_extraction.text import CountVectorizer\n",
    "corpus = [\"雍和宫的荷花很美\"]\n",
    "vectorizer = CountVectorizer()\n",
    "X = vectorizer.fit_transform(corpus)\n",
    "print(vectorizer.get_feature_names_out())\n",
    "print(X.toarray())"
   ]
  },
  {
   "cell_type": "markdown",
   "id": "5660482d",
   "metadata": {},
   "source": [
    "## 语言模型\n",
    "\n",
    "N - gram 模型基于马尔可夫假设，实现简单，但存在数据稀疏性问题，且忽略词间范围依赖关系。"
   ]
  },
  {
   "cell_type": "code",
   "execution_count": 34,
   "id": "2358de8a",
   "metadata": {},
   "outputs": [
    {
     "name": "stdout",
     "output_type": "stream",
     "text": [
      "[('The', 'quick', 'brown'), ('quick', 'brown', 'fox')]\n"
     ]
    }
   ],
   "source": [
    "def tokenize(text):\n",
    "    \"\"\"简单分词函数，按空格分割并去除标点\"\"\"\n",
    "    # 去除常见标点符号\n",
    "    punctuation = '!\"#$%&\\'()*+,-./:;<=>?@[\\\\]^_`{|}~'\n",
    "    text_clean = text.translate(str.maketrans('', '', punctuation))\n",
    "    # 按空格分割为单词列表\n",
    "    return text_clean.split()\n",
    "\n",
    "def generate_ngrams(tokens, n):\n",
    "    \"\"\"生成n-gram序列\"\"\"\n",
    "    if n < 1:\n",
    "        raise ValueError(\"n必须为正整数\")\n",
    "    # 确保tokens长度足够生成n-gram\n",
    "    if len(tokens) < n:\n",
    "        return []\n",
    "    # 生成n-gram\n",
    "    ngrams_list = []\n",
    "    for i in range(len(tokens) - n + 1):\n",
    "        ngram = tuple(tokens[i:i+n])\n",
    "        ngrams_list.append(ngram)\n",
    "    return ngrams_list\n",
    "\n",
    "# 示例使用\n",
    "text = \"The quick brown fox\"\n",
    "# 分词\n",
    "tokens = tokenize(text)\n",
    "# 生成trigram（三元组）\n",
    "trigrams = generate_ngrams(tokens, 3)\n",
    "print(trigrams)"
   ]
  },
  {
   "cell_type": "markdown",
   "id": "99bfee5c",
   "metadata": {},
   "source": [
    "## Word2Vec\n",
    "\n",
    "基于神经网络，生成低维密集向量，能捕捉词间语义关系，但无法捕捉长距离依赖关系。"
   ]
  },
  {
   "cell_type": "code",
   "execution_count": 35,
   "id": "35f20789",
   "metadata": {},
   "outputs": [
    {
     "name": "stdout",
     "output_type": "stream",
     "text": [
      "国王的词向量: [ 0. -1.  0.  0.]\n",
      "王后的词向量: [ 0.  0. -1.  0.]\n",
      "男人的词向量: [ 0.  0.  0. -1.]\n"
     ]
    }
   ],
   "source": [
    "import numpy as np\n",
    "from collections import defaultdict\n",
    "class SimpleWord2Vec:\n",
    "    def __init__(self, embedding_dim=10):\n",
    "        self.embedding_dim = embedding_dim  # 词向量维度\n",
    "        self.word_to_idx = {}  # 词到索引的映射\n",
    "        self.idx_to_word = {}  # 索引到词的映射\n",
    "        self.vocab_size = 0    # 词汇表大小\n",
    "        self.embeddings = None # 词向量矩阵\n",
    "    def fit(self, sentences, window_size=2):\n",
    "        \"\"\"基于共现矩阵训练简单词向量\"\"\"\n",
    "        # 构建词汇表\n",
    "        vocab = set()\n",
    "        for sentence in sentences:\n",
    "            vocab.update(sentence)\n",
    "        self.vocab_size = len(vocab)\n",
    "        self.word_to_idx = {word: i for i, word in enumerate(vocab)}\n",
    "        self.idx_to_word = {i: word for word, i in self.word_to_idx.items()}\n",
    "        # 初始化共现矩阵\n",
    "        cooccurrence_matrix = np.zeros((self.vocab_size, self.vocab_size))\n",
    "        # 填充共现矩阵（统计窗口内词的共现次数）\n",
    "        for sentence in sentences:\n",
    "            sentence_idx = [self.word_to_idx[word] for word in sentence]\n",
    "            for i, idx in enumerate(sentence_idx):\n",
    "                # 窗口范围内的上下文词\n",
    "                start = max(0, i - window_size)\n",
    "                end = min(len(sentence_idx), i + window_size + 1)\n",
    "                for j in range(start, end):\n",
    "                    if i != j:\n",
    "                        cooccurrence_matrix[idx][sentence_idx[j]] += 1\n",
    "\n",
    "        # 简化版：直接使用共现矩阵的SVD分解获取词向量（模拟Word2Vec的稠密表示）\n",
    "        # 对共现矩阵进行SVD分解\n",
    "        u, s, vh = np.linalg.svd(cooccurrence_matrix)\n",
    "        # 取左奇异矩阵的前embedding_dim列作为词向量\n",
    "        self.embeddings = u[:, :self.embedding_dim]\n",
    "\n",
    "    def __getitem__(self, word):\n",
    "        \"\"\"获取词对应的向量\"\"\"\n",
    "        if word not in self.word_to_idx:\n",
    "            raise KeyError(f\"词 '{word}' 不在词汇表中\")\n",
    "        return self.embeddings[self.word_to_idx[word]]\n",
    "\n",
    "\n",
    "# 训练数据\n",
    "sentences = [[\"国王\", \"王后\"], [\"男人\", \"女人\"]]\n",
    "\n",
    "# 初始化并训练模型（向量维度设为5，简化输出）\n",
    "model = SimpleWord2Vec(embedding_dim=5)\n",
    "model.fit(sentences)\n",
    "\n",
    "# 获取\"国王\"的词向量\n",
    "print(\"国王的词向量:\", model[\"国王\"])\n",
    "print(\"王后的词向量:\", model[\"王后\"])\n",
    "print(\"男人的词向量:\", model[\"男人\"])"
   ]
  },
  {
   "cell_type": "markdown",
   "id": "64ce9b6d",
   "metadata": {},
   "source": [
    "# NLP实战\n",
    "\n",
    "学习了前面的代码实现与基础概念，接下来，我们来进行一下项目实践！\n",
    "\n",
    "本次我们学习补充的是对于文本的情感分类\n",
    "\n",
    "数据集以放入对应的doc文档当中了，点击即可使用！"
   ]
  },
  {
   "cell_type": "code",
   "execution_count": null,
   "id": "5114963d",
   "metadata": {},
   "outputs": [
    {
     "name": "stdout",
     "output_type": "stream",
     "text": [
      "正在加载和预处理数据...\n",
      "正在提取特征...\n",
      "正在训练模型...\n",
      "正在评估模型...\n",
      "模型准确率: 0.8707\n",
      "分类报告:\n",
      "              precision    recall  f1-score   support\n",
      "\n",
      "    negative       0.88      0.93      0.91      1594\n",
      "    positive       0.84      0.75      0.80       804\n",
      "\n",
      "    accuracy                           0.87      2398\n",
      "   macro avg       0.86      0.84      0.85      2398\n",
      "weighted avg       0.87      0.87      0.87      2398\n",
      "\n"
     ]
    },
    {
     "data": {
      "image/png": "[encoded data removed]",
      "text/plain": [
       "<Figure size 800x600 with 2 Axes>"
      ]
     },
     "metadata": {},
     "output_type": "display_data"
    },
    {
     "name": "stdout",
     "output_type": "stream",
     "text": [
      "\n",
      "===== 情感分析测试示例 =====\n",
      "\n",
      "文本: 就一点牛肉酱一点味也没有，，太差了\n",
      "真实标签: negative\n",
      "预测标签: negative\n",
      "预测概率: 负面 0.9458, 正面 0.0542\n",
      "--------------------------------------------------\n",
      "\n",
      "文本: 一般，饭有些硬\n",
      "真实标签: negative\n",
      "预测标签: negative\n",
      "预测概率: 负面 0.7778, 正面 0.2222\n",
      "--------------------------------------------------\n",
      "\n",
      "文本: 送达了？送哪去了，已经是第二次了。你们搞什么啊？浪费我的一份订单？要是不想做生意就别开了。\n",
      "真实标签: negative\n",
      "预测标签: negative\n",
      "预测概率: 负面 0.9721, 正面 0.0279\n",
      "--------------------------------------------------\n",
      "\n",
      "文本: 注明了不放香菜，结果送来满满的全是香菜。带汤的面条，汤和面没分开盛放，送来直接全糊了，今天注定要饿肚子了，28块钱2个多小时等待打水漂了，差到极致的外卖！！！！！\n",
      "真实标签: negative\n",
      "预测标签: negative\n",
      "预测概率: 负面 0.9473, 正面 0.0527\n",
      "--------------------------------------------------\n",
      "\n",
      "文本: 米线没问题、可是送来汤全洒了、写了要带辣椒也没有带\n",
      "真实标签: negative\n",
      "预测标签: negative\n",
      "预测概率: 负面 0.9478, 正面 0.0522\n",
      "--------------------------------------------------\n"
     ]
    }
   ],
   "source": [
    "import pandas as pd\n",
    "import jieba\n",
    "from sklearn.feature_extraction.text import TfidfVectorizer\n",
    "from sklearn.model_selection import train_test_split\n",
    "from sklearn.naive_bayes import MultinomialNB\n",
    "from sklearn.metrics import classification_report, confusion_matrix, accuracy_score\n",
    "import matplotlib.pyplot as plt\n",
    "import seaborn as sns\n",
    "\n",
    "# 数据加载与预处理\n",
    "def load_and_preprocess_data(file_path):\n",
    "    # 加载数据\n",
    "    df = pd.read_csv(file_path)\n",
    "    # 分词处理\n",
    "    df['words'] = df['review'].apply(lambda x: ' '.join(jieba.cut(x)))\n",
    "    # 划分训练集和测试集\n",
    "    X = df['words']\n",
    "    y = df['label']\n",
    "    X_train, X_test, y_train, y_test = train_test_split(X, y, test_size=0.2, random_state=42)\n",
    "    return X_train, X_test, y_train, y_test\n",
    "\n",
    "# 特征提取\n",
    "def extract_features(X_train, X_test):\n",
    "    # 使用TF-IDF提取文本特征\n",
    "    vectorizer = TfidfVectorizer(max_features=5000, ngram_range=(1, 2))\n",
    "    X_train_tfidf = vectorizer.fit_transform(X_train)\n",
    "    X_test_tfidf = vectorizer.transform(X_test)\n",
    "    return X_train_tfidf, X_test_tfidf, vectorizer\n",
    "\n",
    "# 模型训练\n",
    "def train_model(X_train_tfidf, y_train):\n",
    "    # 使用朴素贝叶斯分类器\n",
    "    model = MultinomialNB()\n",
    "    model.fit(X_train_tfidf, y_train)\n",
    "    return model\n",
    "\n",
    "# 模型评估\n",
    "def evaluate_model(model, X_test_tfidf, y_test):\n",
    "    # 预测\n",
    "    y_pred = model.predict(X_test_tfidf)\n",
    "    # 计算准确率\n",
    "    accuracy = accuracy_score(y_test, y_pred)\n",
    "    print(f\"模型准确率: {accuracy:.4f}\")\n",
    "    # 打印分类报告\n",
    "    print(\"分类报告:\")\n",
    "    print(classification_report(y_test, y_pred, target_names=['negative', 'positive']))\n",
    "    # 绘制混淆矩阵\n",
    "    cm = confusion_matrix(y_test, y_pred)\n",
    "    plt.figure(figsize=(8, 6))\n",
    "    sns.heatmap(cm, annot=True, fmt='d', cmap='Blues', \n",
    "                xticklabels=['negative', 'positive'], yticklabels=['negative', 'positive'])\n",
    "    plt.xlabel('predict')\n",
    "    plt.ylabel('true')\n",
    "    plt.title('confusion matrix')\n",
    "    plt.show()\n",
    "    return y_pred\n",
    "\n",
    "# 测试示例\n",
    "def show_test_examples(X_test, y_test, y_pred, vectorizer, model, n=5):\n",
    "    # 随机选择n个测试样本\n",
    "    indices = np.random.choice(len(X_test), n, replace=False)\n",
    "    print(\"\\n===== 情感分析测试示例 =====\")\n",
    "    for i in indices:\n",
    "        text = X_test.iloc[i]\n",
    "        true_label = y_test.iloc[i]\n",
    "        pred_label = y_pred[i]\n",
    "        # 原始文本\n",
    "        original_text = ''.join(text.split())\n",
    "        # 预测概率\n",
    "        probs = model.predict_proba(vectorizer.transform([text]))[0]\n",
    "        neg_prob, pos_prob = probs[0], probs[1]\n",
    "        \n",
    "        print(f\"\\n文本: {original_text}\")\n",
    "        print(f\"真实标签: {'positive' if true_label == 1 else 'negative'}\")\n",
    "        print(f\"预测标签: {'positive' if pred_label == 1 else 'negative'}\")\n",
    "        print(f\"预测概率: 负面 {neg_prob:.4f}, 正面 {pos_prob:.4f}\")\n",
    "        print(\"-\" * 50)\n",
    "\n",
    "#文件地址\n",
    "file_path = \"./waimai_10k.csv\"\n",
    "# 数据加载与预处理\n",
    "print(\"正在加载和预处理数据...\")\n",
    "X_train, X_test, y_train, y_test = load_and_preprocess_data(file_path)\n",
    "# 特征提取\n",
    "print(\"正在提取特征...\")\n",
    "X_train_tfidf, X_test_tfidf, vectorizer = extract_features(X_train, X_test)\n",
    "# 模型训练\n",
    "print(\"正在训练模型...\")\n",
    "model = train_model(X_train_tfidf, y_train)\n",
    "# 模型评估\n",
    "print(\"正在评估模型...\")\n",
    "y_pred = evaluate_model(model, X_test_tfidf, y_test)\n",
    "# 展示测试示例\n",
    "show_test_examples(X_test, y_test, y_pred, vectorizer, model)"
   ]
  }
 ],
 "metadata": {
  "kernelspec": {
   "display_name": "deeplearing",
   "language": "python",
   "name": "python3"
  },
  "language_info": {
   "codemirror_mode": {
    "name": "ipython",
    "version": 3
   },
   "file_extension": ".py",
   "mimetype": "text/x-python",
   "name": "python",
   "nbconvert_exporter": "python",
   "pygments_lexer": "ipython3",
   "version": "3.9.23"
  }
 },
 "nbformat": 4,
 "nbformat_minor": 5
}
